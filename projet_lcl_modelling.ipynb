{
 "cells": [
  {
   "cell_type": "markdown",
   "id": "46721e96",
   "metadata": {},
   "source": [
    "<h1 style=\"text-align: center;\"><img class=\"responsive\" style=\"float: left;\" src=\"https://is1-ssl.mzstatic.com/image/thumb/Purple112/v4/b5/6e/20/b56e2053-ccd2-d63f-e0fb-a1bf3774eb0b/AppIcon-0-0-1x_U007emarketing-0-0-0-10-0-0-sRGB-0-0-0-GLES2_U002c0-512MB-85-220-0-0.png/230x0w.webp\" alt=\"\" width=\"143\" height=\"143\" /></h1>\n",
    "<h1 style=\"text-align: center;\"><img class=\"responsive\" style=\"font-size: 14px; float: right;\" src=\"https://i0.wp.com/mosefparis1.fr/wp-content/uploads/2022/10/cropped-image-1.png?fit=532%2C540&amp;ssl=1\" alt=\"\" width=\"163\" height=\"165\" /></h1>\n",
    "<h1 style=\"text-align: center;\"><span style=\"color: #000080; font-family: arial, helvetica, sans-serif;\"><strong style=\"font-size: 24pt;\">LCL Challenge</strong></span></h1>\n",
    "<p style=\"text-align: center;\"><span style=\"font-size: 14pt;\">Scoring Immobilier: Syst&egrave;me Expert BEST&nbsp;IMMO</span></p>\n",
    "<p style=\"text-align: center;\"><span style=\"font-size: 10pt; font-family: verdana, geneva, sans-serif;\">Lucie Gabagnou,&nbsp;Ghiles Idris,&nbsp;Armand L'Huillier,&nbsp;Yanis Rehoune</span></p>"
   ]
  }
 ],
 "metadata": {
  "kernelspec": {
   "display_name": "Python 3.9.6 64-bit",
   "language": "python",
   "name": "python3"
  },
  "language_info": {
   "name": "python",
   "version": "3.9.6"
  },
  "orig_nbformat": 4,
  "vscode": {
   "interpreter": {
    "hash": "31f2aee4e71d21fbe5cf8b01ff0e069b9275f58929596ceb00d14d90e3e16cd6"
   }
  }
 },
 "nbformat": 4,
 "nbformat_minor": 2
}
